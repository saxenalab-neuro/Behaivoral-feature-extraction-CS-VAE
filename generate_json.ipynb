{
 "cells": [
  {
   "cell_type": "code",
   "execution_count": 1,
   "id": "5423d541",
   "metadata": {},
   "outputs": [],
   "source": [
    "import json\n",
    "  \n",
    "dictionary ={\n",
    "    \n",
    "    \"grid_search\": False, ###hyperparameter search or not\n",
    "    \"unsupervised_dim\": [2],  ###  specify the unsupervised dimenstion\n",
    "    \"label_dim\": [5], ### number of labled body position\n",
    "    \"contrained_dim\" : [2],## background dimension\n",
    "    \"alpha\" :[ 1000],  ### weight on the label\n",
    "    \"beta\" : [5],  #### weight on dimension wise kl\n",
    "\n",
    "    \"theta\" : [200] , #### weight on contrained latents\n",
    "    \"ks\": [15],  #### kernel size\n",
    "    \"flag\": ['ppp'] ,#### default: swiss roll\n",
    "    ##\n",
    "    \"image_size\":(128,128,2),#x,y,z of the image, prefered size: 128,128; or any even size; plz resize the image to be 128,128 using scirpt: resize.ipynb\n",
    "    \"hdf5_file\" : 'C:\\\\Users\\\\yidaiyao\\\\Desktop\\\\decoding_model\\\\data_nv30364657.hdf5',# follow the 'create_hdf5.ipynb' to generate the .hdf5 file\n",
    "    \"batch_size\":[256],\n",
    "    \"epoch\":[50],\n",
    "    \"image_name\":['images_30', 'images_36', 'images_46', 'images_57'],#  image keys in 'hdf5', #trial keep the same for each subjects\n",
    "    \"label_name\" : ['labels_30', 'labels_36', 'labels_46', 'labels_57']#  corresponding label keys in 'hdf5', #trial keep the same for each subjects\n",
    "    \n",
    "}\n",
    "  \n",
    "\n",
    "json_object = json.dumps(dictionary, indent = 4)\n",
    "with open(\"train/parameter_init.json\", \"w\") as outfile:\n",
    "    json.dump(dictionary, outfile)"
   ]
  }
 ],
 "metadata": {
  "kernelspec": {
   "display_name": "Python 3 (ipykernel)",
   "language": "python",
   "name": "python3"
  },
  "language_info": {
   "codemirror_mode": {
    "name": "ipython",
    "version": 3
   },
   "file_extension": ".py",
   "mimetype": "text/x-python",
   "name": "python",
   "nbconvert_exporter": "python",
   "pygments_lexer": "ipython3",
   "version": "3.9.5"
  }
 },
 "nbformat": 4,
 "nbformat_minor": 5
}
