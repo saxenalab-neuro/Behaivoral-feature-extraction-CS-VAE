{
 "cells": [
  {
   "cell_type": "markdown",
   "id": "293fc08c",
   "metadata": {},
   "source": [
    "### Create hdf5 file with different trials"
   ]
  },
  {
   "cell_type": "code",
   "execution_count": null,
   "id": "2be80a46",
   "metadata": {},
   "outputs": [],
   "source": [
    "import h5py\n",
    "import pickle\n",
    "import scipy.io as sio\n",
    "import numpy as np\n",
    "import matplotlib.pyplot as plt\n",
    "import random\n",
    "import os\n",
    "new_file='new_mice.hdf5'\n",
    "path='/path/to/each/trial/of/image/'\n",
    "##follow the 'resize' file to get image from video/ right size image\n",
    "##e.g. number of frames * image width *image width * image dimension(.npy)\n",
    "trial_name= os.listdir(path) # same for multiple mice\n",
    "##better when each trial with the same length and you have same number of trial for each mice\n",
    "with h5py.File(new_file, 'w', libver='latest', swmr=True) as f:\n",
    "\n",
    "    # enable single write, multi-read - needed for simultaneous model fitting\n",
    "    f.swmr_mode = True\n",
    "\n",
    "    # create \"image\" HDF5 group\n",
    "    group_mouse_1 = f.create_group('mouse_1')\n",
    "    for idx,t in enumerate(trial_name,0):\n",
    "        all_frames=np.load(path+t)\n",
    "\n",
    "        if np.sum(all_frames)==0:### incase nan\n",
    "            pass\n",
    "        else:\n",
    "            group_mouse_1.create_dataset('trial_%04i' % idx, data=all_frames, dtype='uint8')\n",
    "\n"
   ]
  }
 ],
 "metadata": {
  "kernelspec": {
   "display_name": "Python 3 (ipykernel)",
   "language": "python",
   "name": "python3"
  },
  "language_info": {
   "codemirror_mode": {
    "name": "ipython",
    "version": 3
   },
   "file_extension": ".py",
   "mimetype": "text/x-python",
   "name": "python",
   "nbconvert_exporter": "python",
   "pygments_lexer": "ipython3",
   "version": "3.9.5"
  }
 },
 "nbformat": 4,
 "nbformat_minor": 5
}
