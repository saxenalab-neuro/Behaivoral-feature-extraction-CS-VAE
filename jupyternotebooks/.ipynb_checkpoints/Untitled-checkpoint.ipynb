{
 "cells": [
  {
   "cell_type": "code",
   "execution_count": 3,
   "id": "9ffd47a1",
   "metadata": {},
   "outputs": [],
   "source": [
    "import numpy as np\n",
    "import os\n",
    "import h5py\n",
    "import cv2\n",
    "####################create a subset from the whole hdf5 file, do not run if you don't need####################\n",
    "path='C:\\\\Users\\\\yidaiyao\\\\Desktop\\\\decoding_model\\\\data_nv30364657.hdf5'\n",
    "ff =h5py.File( path,'r')\n",
    "names=list(ff.keys())\n",
    "\n",
    "new_file='part_data.hdf5'\n",
    "with h5py.File(new_file, 'w', libver='latest', swmr=True) as fil:\n",
    "    fil.swmr_mode = True\n",
    "    \n",
    "    for f in names:\n",
    "        group_n = fil.create_group(f)\n",
    "        \n",
    "        temp=list(ff[f].keys())[:1]\n",
    "        \n",
    "        for idx,t in enumerate(temp,0):\n",
    "                data=ff[f][t]\n",
    "                group_n.create_dataset('trial_%04i' % int(idx), data=np.array(data), dtype='float32')\n",
    "########################################################################################################\n",
    "# path='part_data.hdf5'\n",
    "# ff =h5py.File( path,'r')\n",
    "# ff.keys()"
   ]
  },
  {
   "cell_type": "code",
   "execution_count": null,
   "id": "0c27cd86",
   "metadata": {},
   "outputs": [],
   "source": []
  }
 ],
 "metadata": {
  "kernelspec": {
   "display_name": "Python 3 (ipykernel)",
   "language": "python",
   "name": "python3"
  },
  "language_info": {
   "codemirror_mode": {
    "name": "ipython",
    "version": 3
   },
   "file_extension": ".py",
   "mimetype": "text/x-python",
   "name": "python",
   "nbconvert_exporter": "python",
   "pygments_lexer": "ipython3",
   "version": "3.9.5"
  }
 },
 "nbformat": 4,
 "nbformat_minor": 5
}
