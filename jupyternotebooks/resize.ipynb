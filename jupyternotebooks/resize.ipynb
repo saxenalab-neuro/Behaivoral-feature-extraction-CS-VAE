{
 "cells": [
  {
   "cell_type": "markdown",
   "id": "fa5aa437",
   "metadata": {},
   "source": [
    "### Generate frames from video with right size of image"
   ]
  },
  {
   "cell_type": "code",
   "execution_count": null,
   "id": "90bcae9d",
   "metadata": {},
   "outputs": [],
   "source": [
    "import cv2\n",
    "import numpy as np\n",
    "vidcap = cv2.VideoCapture('xxxx.mp4')## video name \n",
    "path='/path/to/save/image'\n",
    "success,image = vidcap.read()\n",
    "count = 0\n",
    "while success:\n",
    "\n",
    "    np.save(path+'frame_'+str(count),np.array(Image.fromarray(image).resize((128,128))))\n",
    "\n",
    "    success,image = vidcap.read()\n",
    "    print('Read a new frame: ', success)\n",
    "    count += 1"
   ]
  }
 ],
 "metadata": {
  "kernelspec": {
   "display_name": "Python 3 (ipykernel)",
   "language": "python",
   "name": "python3"
  },
  "language_info": {
   "codemirror_mode": {
    "name": "ipython",
    "version": 3
   },
   "file_extension": ".py",
   "mimetype": "text/x-python",
   "name": "python",
   "nbconvert_exporter": "python",
   "pygments_lexer": "ipython3",
   "version": "3.9.5"
  }
 },
 "nbformat": 4,
 "nbformat_minor": 5
}
