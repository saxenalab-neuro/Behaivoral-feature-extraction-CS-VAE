{
 "cells": [
  {
   "cell_type": "code",
   "execution_count": 1,
   "id": "5423d541",
   "metadata": {},
   "outputs": [
    {
     "ename": "FileNotFoundError",
     "evalue": "[Errno 2] No such file or directory: 'train/parameter_init.json'",
     "output_type": "error",
     "traceback": [
      "\u001b[1;31m---------------------------------------------------------------------------\u001b[0m",
      "\u001b[1;31mFileNotFoundError\u001b[0m                         Traceback (most recent call last)",
      "\u001b[1;32m~\\AppData\\Local\\Temp/ipykernel_1053040/2051111909.py\u001b[0m in \u001b[0;36m<module>\u001b[1;34m\u001b[0m\n\u001b[0;32m     24\u001b[0m \u001b[1;33m\u001b[0m\u001b[0m\n\u001b[0;32m     25\u001b[0m \u001b[0mjson_object\u001b[0m \u001b[1;33m=\u001b[0m \u001b[0mjson\u001b[0m\u001b[1;33m.\u001b[0m\u001b[0mdumps\u001b[0m\u001b[1;33m(\u001b[0m\u001b[0mdictionary\u001b[0m\u001b[1;33m,\u001b[0m \u001b[0mindent\u001b[0m \u001b[1;33m=\u001b[0m \u001b[1;36m4\u001b[0m\u001b[1;33m)\u001b[0m\u001b[1;33m\u001b[0m\u001b[1;33m\u001b[0m\u001b[0m\n\u001b[1;32m---> 26\u001b[1;33m \u001b[1;32mwith\u001b[0m \u001b[0mopen\u001b[0m\u001b[1;33m(\u001b[0m\u001b[1;34m\"train/parameter_init.json\"\u001b[0m\u001b[1;33m,\u001b[0m \u001b[1;34m\"w\"\u001b[0m\u001b[1;33m)\u001b[0m \u001b[1;32mas\u001b[0m \u001b[0moutfile\u001b[0m\u001b[1;33m:\u001b[0m\u001b[1;33m\u001b[0m\u001b[1;33m\u001b[0m\u001b[0m\n\u001b[0m\u001b[0;32m     27\u001b[0m     \u001b[0mjson\u001b[0m\u001b[1;33m.\u001b[0m\u001b[0mdump\u001b[0m\u001b[1;33m(\u001b[0m\u001b[0mdictionary\u001b[0m\u001b[1;33m,\u001b[0m \u001b[0moutfile\u001b[0m\u001b[1;33m)\u001b[0m\u001b[1;33m\u001b[0m\u001b[1;33m\u001b[0m\u001b[0m\n",
      "\u001b[1;31mFileNotFoundError\u001b[0m: [Errno 2] No such file or directory: 'train/parameter_init.json'"
     ]
    }
   ],
   "source": [
    "import json\n",
    "  \n",
    "dictionary ={\n",
    "    \"grid_search\": False, ###hyperparameter search or not\n",
    "    \"unsupervised_dim\": [2],  ###  specify the unsupervised dimenstion\n",
    "    \"label_dim\": [5], ### number of labled body position\n",
    "    \"contrained_dim\" : [2],## background dimension\n",
    "    \"alpha\" :[ 1000],  ### weight on the label\n",
    "    \"beta\" : [5],  #### weight on dimension wise kl\n",
    "\n",
    "    \"theta\" : [200] , #### weight on contrained latents\n",
    "    \"ks\": [15],  #### kernel size\n",
    "    \"flag\": ['ppp'] ,#### default: swiss roll\n",
    "    ##\n",
    "    \"image_size\":(128,128,2),#x,y,z of the image, prefered size: 128,128; or any even size; plz resize the image to be 128,128 using scirpt: resize.ipynb\n",
    "    \"hdf5_file\" : './data/data_nv30364657.hdf5',# follow the 'create_hdf5.ipynb' to generate the .hdf5 file\n",
    "    \"batch_size\":[256],\n",
    "    \"epoch\":[50],\n",
    "    \"image_name\":['images_30', 'images_36', 'images_46', 'images_57'],#  image keys in 'hdf5', #trial keep the same for each subjects\n",
    "    \"label_name\" : ['labels_30', 'labels_36', 'labels_46', 'labels_57']#  corresponding label keys in 'hdf5', #trial keep the same for each subjects\n",
    "    \n",
    "}\n",
    "  \n",
    "\n",
    "json_object = json.dumps(dictionary, indent = 4)\n",
    "with open(\"train/parameter_init.json\", \"w\") as outfile:\n",
    "    json.dump(dictionary, outfile)"
   ]
  }
 ],
 "metadata": {
  "kernelspec": {
   "display_name": "Python 3 (ipykernel)",
   "language": "python",
   "name": "python3"
  },
  "language_info": {
   "codemirror_mode": {
    "name": "ipython",
    "version": 3
   },
   "file_extension": ".py",
   "mimetype": "text/x-python",
   "name": "python",
   "nbconvert_exporter": "python",
   "pygments_lexer": "ipython3",
   "version": "3.9.5"
  }
 },
 "nbformat": 4,
 "nbformat_minor": 5
}
